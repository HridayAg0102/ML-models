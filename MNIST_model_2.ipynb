{
  "nbformat": 4,
  "nbformat_minor": 0,
  "metadata": {
    "colab": {
      "name": "MNIST_model_2.ipynb",
      "provenance": [],
      "authorship_tag": "ABX9TyOXvsQeuyFO/OiYXSNYv8Mj",
      "include_colab_link": true
    },
    "kernelspec": {
      "name": "python3",
      "display_name": "Python 3"
    },
    "language_info": {
      "name": "python"
    }
  },
  "cells": [
    {
      "cell_type": "markdown",
      "metadata": {
        "id": "view-in-github",
        "colab_type": "text"
      },
      "source": [
        "<a href=\"https://colab.research.google.com/github/HridayAg0102/ML-models/blob/main/MNIST_model_2.ipynb\" target=\"_parent\"><img src=\"https://colab.research.google.com/assets/colab-badge.svg\" alt=\"Open In Colab\"/></a>"
      ]
    },
    {
      "cell_type": "markdown",
      "source": [
        "# Continuation of MNIST model part 1"
      ],
      "metadata": {
        "id": "v2fdkE3-pf2C"
      }
    },
    {
      "cell_type": "code",
      "source": [
        "from keras.datasets import mnist\n",
        "(train_images, train_labels), (test_images, test_labels) = mnist.load_data()"
      ],
      "metadata": {
        "colab": {
          "base_uri": "https://localhost:8080/"
        },
        "id": "jtjiDZ-tpo58",
        "outputId": "6e6a3c34-c136-4c18-d57b-2f724b432cfb"
      },
      "execution_count": 1,
      "outputs": [
        {
          "output_type": "stream",
          "name": "stdout",
          "text": [
            "Downloading data from https://storage.googleapis.com/tensorflow/tf-keras-datasets/mnist.npz\n",
            "11493376/11490434 [==============================] - 0s 0us/step\n",
            "11501568/11490434 [==============================] - 0s 0us/step\n"
          ]
        }
      ]
    },
    {
      "cell_type": "code",
      "source": [
        "print(train_images.ndim)"
      ],
      "metadata": {
        "colab": {
          "base_uri": "https://localhost:8080/"
        },
        "id": "u7VEg-MHpyam",
        "outputId": "729c21af-5df0-4fdb-d512-10ce66b36728"
      },
      "execution_count": 3,
      "outputs": [
        {
          "output_type": "stream",
          "name": "stdout",
          "text": [
            "3\n"
          ]
        }
      ]
    },
    {
      "cell_type": "code",
      "source": [
        "print(train_images.shape)"
      ],
      "metadata": {
        "colab": {
          "base_uri": "https://localhost:8080/"
        },
        "id": "VYHLeQQLp6hB",
        "outputId": "0031b66c-d168-4c8a-b2fd-97c002447a65"
      },
      "execution_count": 4,
      "outputs": [
        {
          "output_type": "stream",
          "name": "stdout",
          "text": [
            "(60000, 28, 28)\n"
          ]
        }
      ]
    },
    {
      "cell_type": "code",
      "source": [
        "print(train_images.dtype)"
      ],
      "metadata": {
        "colab": {
          "base_uri": "https://localhost:8080/"
        },
        "id": "qTcRtgTHqEiS",
        "outputId": "5bbd74c7-12ab-47b7-9c62-b8856d428245"
      },
      "execution_count": 5,
      "outputs": [
        {
          "output_type": "stream",
          "name": "stdout",
          "text": [
            "uint8\n"
          ]
        }
      ]
    },
    {
      "cell_type": "code",
      "source": [
        "# Diplaying an image from dataset\n",
        "\n",
        "digit = train_images[7]\n",
        "\n",
        "import matplotlib.pyplot as plt\n",
        "plt.imshow(digit, cmap = plt.cm.binary)\n",
        "plt.show()"
      ],
      "metadata": {
        "colab": {
          "base_uri": "https://localhost:8080/",
          "height": 265
        },
        "id": "2kC99G0mqIpj",
        "outputId": "4e75f3ac-e8c1-4d5a-fe52-75be6f434501"
      },
      "execution_count": 10,
      "outputs": [
        {
          "output_type": "display_data",
          "data": {
            "image/png": "[encoded data removed]",
            "text/plain": [
              "<Figure size 432x288 with 1 Axes>"
            ]
          },
          "metadata": {
            "needs_background": "light"
          }
        }
      ]
    },
    {
      "cell_type": "markdown",
      "source": [
        "<br><br><br>\n",
        "\n",
        "### <font color=\"red\">Tensor Slicing: </font>\n",
        "Selection of specific elements of a tensor and can also select their specific parts. for eg: getting the bottom right corner's 14 x 14 pixels out of an image of dimensions 28 x 28."
      ],
      "metadata": {
        "id": "Hmgts3Q7sJQ9"
      }
    },
    {
      "cell_type": "code",
      "source": [
        "my_slice = train_images[10:100]\n",
        "\n",
        "# 100 is not inclusive \n",
        "\n",
        "my_slice.shape"
      ],
      "metadata": {
        "colab": {
          "base_uri": "https://localhost:8080/"
        },
        "id": "KFg3qB5tqpb5",
        "outputId": "5b5e0e17-2e7a-4beb-e3f7-b27dda0db021"
      },
      "execution_count": 11,
      "outputs": [
        {
          "output_type": "execute_result",
          "data": {
            "text/plain": [
              "(90, 28, 28)"
            ]
          },
          "metadata": {},
          "execution_count": 11
        }
      ]
    },
    {
      "cell_type": "code",
      "source": [
        "\"\"\"\n",
        "It’s equivalent to this more detailed notation, which specifies a start index and stop\n",
        "index for the slice along each tensor axis. Note that : is equivalent to selecting the\n",
        "entire axis:\n",
        "\"\"\"\n",
        "\n",
        "my_slice = train_images[10:100, : , : ]\n",
        "\n",
        "# in order to select 14 × 14 pixels in the bottom-right corner of all images, you\n",
        "#do this:\n",
        "\n",
        "my_slice = train_images[ : , 14: , 14:]\n",
        "my_slice.shape"
      ],
      "metadata": {
        "colab": {
          "base_uri": "https://localhost:8080/"
        },
        "id": "BWU8K_ghtAq6",
        "outputId": "6ab34ea0-f854-4fcb-c04b-661343ef1941"
      },
      "execution_count": 12,
      "outputs": [
        {
          "output_type": "execute_result",
          "data": {
            "text/plain": [
              "(60000, 14, 14)"
            ]
          },
          "metadata": {},
          "execution_count": 12
        }
      ]
    },
    {
      "cell_type": "code",
      "source": [
        ""
      ],
      "metadata": {
        "id": "CaE4D79wubWu"
      },
      "execution_count": null,
      "outputs": []
    }
  ]
}