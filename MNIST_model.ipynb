{
  "nbformat": 4,
  "nbformat_minor": 0,
  "metadata": {
    "colab": {
      "name": "MNIST_model.ipynb",
      "provenance": [],
      "authorship_tag": "ABX9TyOXnbMmA8JzjhtyJnIwr67I",
      "include_colab_link": true
    },
    "kernelspec": {
      "name": "python3",
      "display_name": "Python 3"
    },
    "language_info": {
      "name": "python"
    }
  },
  "cells": [
    {
      "cell_type": "markdown",
      "metadata": {
        "id": "view-in-github",
        "colab_type": "text"
      },
      "source": [
        "<a href=\"https://colab.research.google.com/github/HridayAg0102/ML-models/blob/main/MNIST_model.ipynb\" target=\"_parent\"><img src=\"https://colab.research.google.com/assets/colab-badge.svg\" alt=\"Open In Colab\"/></a>"
      ]
    },
    {
      "cell_type": "markdown",
      "source": [
        "# This model is used to predict the number from handwritten number's image\n",
        "\n",
        "\n",
        "---\n",
        "\n"
      ],
      "metadata": {
        "id": "zxjFfzK4pEUA"
      }
    },
    {
      "cell_type": "code",
      "execution_count": 110,
      "metadata": {
        "colab": {
          "base_uri": "https://localhost:8080/",
          "height": 55
        },
        "id": "CGoHG2lRUgFP",
        "outputId": "9a6cc36e-1948-4863-fdfb-df0a79973a4c"
      },
      "outputs": [
        {
          "output_type": "execute_result",
          "data": {
            "application/vnd.google.colaboratory.intrinsic+json": {
              "type": "string"
            },
            "text/plain": [
              "'\\nAlternative method to load the dataset:\\n======================================\\n\\nfrom keras.datasets import mnist\\narray = mnist.load_data()\\n\\ntrain_images, train_labels = array[0]\\ntest_images, test_labels = array[1]\\n\\n'"
            ]
          },
          "metadata": {},
          "execution_count": 110
        }
      ],
      "source": [
        "from keras.datasets import mnist\n",
        "(train_images, train_labels), (test_images, test_labels) = mnist.load_data()\n",
        "\n",
        "\"\"\"\n",
        "Alternative method to load the dataset:\n",
        "======================================\n",
        "\n",
        "from keras.datasets import mnist\n",
        "array = mnist.load_data()\n",
        "\n",
        "train_images, train_labels = array[0]\n",
        "test_images, test_labels = array[1]\n",
        "\n",
        "\"\"\""
      ]
    },
    {
      "cell_type": "code",
      "source": [
        "train_images.shape"
      ],
      "metadata": {
        "colab": {
          "base_uri": "https://localhost:8080/"
        },
        "id": "kzhEw66MU-ps",
        "outputId": "46e492e7-58fb-4227-ada9-f452a278616e"
      },
      "execution_count": 111,
      "outputs": [
        {
          "output_type": "execute_result",
          "data": {
            "text/plain": [
              "(60000, 28, 28)"
            ]
          },
          "metadata": {},
          "execution_count": 111
        }
      ]
    },
    {
      "cell_type": "code",
      "source": [
        "# Adding layers to the Neural Network\n",
        "\n",
        "from keras import models\n",
        "from keras import layers \n",
        "\n",
        "network = models.Sequential()\n",
        "network.add(layers.Dense(512, activation= \"relu\", input_shape=(28*28,)))\n",
        "network.add(layers.Dense(10, activation = \"softmax\"))\n"
      ],
      "metadata": {
        "id": "je3pBuD3V61u"
      },
      "execution_count": 112,
      "outputs": []
    },
    {
      "cell_type": "code",
      "source": [
        "# aaplication of optimizer, loss function and metrics\n",
        "# Loss function : gives direction to the model and helps it decide how it is performing\n",
        "# metrics : on what basis we must judge the model (here \"accuracy\" is used, which is the number of correct predictions out of total predictions)\n",
        "# optimizer : this is the way our model should transform itself to perform better.\n",
        "\n",
        "network.compile(optimizer = \"rmsprop\",\n",
        "                loss = \"categorical_crossentropy\",\n",
        "                metrics = [\"accuracy\"])"
      ],
      "metadata": {
        "id": "B2bgpipeXN6Z"
      },
      "execution_count": 113,
      "outputs": []
    },
    {
      "cell_type": "code",
      "source": [
        "# Preparing image data\n",
        "\n",
        "train_images = train_images.reshape((60000,28*28))\n",
        "train_images = train_images.astype(\"float32\")/255       # image size normalisation\n",
        "\n",
        "test_images = test_images.reshape((10000,28*28))\n",
        "test_images = test_images.astype(\"float32\")/255\n",
        "\n",
        "train_images.shape\n"
      ],
      "metadata": {
        "colab": {
          "base_uri": "https://localhost:8080/"
        },
        "id": "pPuGrLYcYgZV",
        "outputId": "04669ef7-8b50-4a2f-8547-d110ae999da7"
      },
      "execution_count": 114,
      "outputs": [
        {
          "output_type": "execute_result",
          "data": {
            "text/plain": [
              "(60000, 784)"
            ]
          },
          "metadata": {},
          "execution_count": 114
        }
      ]
    },
    {
      "cell_type": "code",
      "source": [
        "# Preparing the labels (Label Encoding)\n",
        "\n",
        "from tensorflow.keras.utils import to_categorical\n",
        "\n",
        "train_labels = to_categorical(train_labels)\n",
        "test_labels = to_categorical(test_labels)\n",
        "\n",
        "\n",
        "train_labels.shape"
      ],
      "metadata": {
        "colab": {
          "base_uri": "https://localhost:8080/"
        },
        "id": "M6SQE9CiZfk6",
        "outputId": "3ea7dfa2-696a-4b86-809a-52d3a5f52f90"
      },
      "execution_count": 115,
      "outputs": [
        {
          "output_type": "execute_result",
          "data": {
            "text/plain": [
              "(60000, 10)"
            ]
          },
          "metadata": {},
          "execution_count": 115
        }
      ]
    },
    {
      "cell_type": "code",
      "source": [
        "train_images.shape"
      ],
      "metadata": {
        "colab": {
          "base_uri": "https://localhost:8080/"
        },
        "id": "AN6Y_puqatwX",
        "outputId": "5054a96b-fd3c-4aac-dce7-32de005210d8"
      },
      "execution_count": 116,
      "outputs": [
        {
          "output_type": "execute_result",
          "data": {
            "text/plain": [
              "(60000, 784)"
            ]
          },
          "metadata": {},
          "execution_count": 116
        }
      ]
    },
    {
      "cell_type": "code",
      "source": [
        "test_images.shape"
      ],
      "metadata": {
        "colab": {
          "base_uri": "https://localhost:8080/"
        },
        "id": "OSepVUsJb0cZ",
        "outputId": "95f16934-5f5f-4f83-9d45-46a9c113891a"
      },
      "execution_count": 117,
      "outputs": [
        {
          "output_type": "execute_result",
          "data": {
            "text/plain": [
              "(10000, 784)"
            ]
          },
          "metadata": {},
          "execution_count": 117
        }
      ]
    },
    {
      "cell_type": "code",
      "source": [
        "\n",
        "train_labels.shape\n"
      ],
      "metadata": {
        "colab": {
          "base_uri": "https://localhost:8080/"
        },
        "id": "qPeT9VRscCjS",
        "outputId": "88692365-38e7-4a6f-e337-3dba706fddda"
      },
      "execution_count": 118,
      "outputs": [
        {
          "output_type": "execute_result",
          "data": {
            "text/plain": [
              "(60000, 10)"
            ]
          },
          "metadata": {},
          "execution_count": 118
        }
      ]
    },
    {
      "cell_type": "code",
      "source": [
        "test_labels.shape"
      ],
      "metadata": {
        "colab": {
          "base_uri": "https://localhost:8080/"
        },
        "id": "KoYMssNIcED0",
        "outputId": "b4fdf55e-fa0d-4fd4-bcf2-f48b0f48ec18"
      },
      "execution_count": 119,
      "outputs": [
        {
          "output_type": "execute_result",
          "data": {
            "text/plain": [
              "(10000, 10)"
            ]
          },
          "metadata": {},
          "execution_count": 119
        }
      ]
    },
    {
      "cell_type": "code",
      "source": [
        "network.fit(train_images, train_labels, epochs=5, batch_size=128)"
      ],
      "metadata": {
        "colab": {
          "base_uri": "https://localhost:8080/"
        },
        "id": "rNtXwnRhcE4y",
        "outputId": "d6f29a0a-684d-4a79-dd4c-9ab22f23b7ce"
      },
      "execution_count": 120,
      "outputs": [
        {
          "output_type": "stream",
          "name": "stdout",
          "text": [
            "Epoch 1/5\n",
            "469/469 [==============================] - 6s 12ms/step - loss: 0.2582 - accuracy: 0.9256\n",
            "Epoch 2/5\n",
            "469/469 [==============================] - 5s 11ms/step - loss: 0.1058 - accuracy: 0.9685\n",
            "Epoch 3/5\n",
            "469/469 [==============================] - 5s 11ms/step - loss: 0.0695 - accuracy: 0.9793\n",
            "Epoch 4/5\n",
            "469/469 [==============================] - 5s 11ms/step - loss: 0.0507 - accuracy: 0.9854\n",
            "Epoch 5/5\n",
            "469/469 [==============================] - 5s 11ms/step - loss: 0.0385 - accuracy: 0.9883\n"
          ]
        },
        {
          "output_type": "execute_result",
          "data": {
            "text/plain": [
              "<keras.callbacks.History at 0x7fed500118d0>"
            ]
          },
          "metadata": {},
          "execution_count": 120
        }
      ]
    },
    {
      "cell_type": "code",
      "source": [
        "test_loss, test_accuracy = network.evaluate(test_images,test_labels)\n",
        "print(f\"test accuracy is: {test_accuracy}\")"
      ],
      "metadata": {
        "colab": {
          "base_uri": "https://localhost:8080/"
        },
        "id": "zSuKaJzHcL46",
        "outputId": "84870613-d852-452f-d12d-017326940866"
      },
      "execution_count": 121,
      "outputs": [
        {
          "output_type": "stream",
          "name": "stdout",
          "text": [
            "313/313 [==============================] - 1s 3ms/step - loss: 0.0799 - accuracy: 0.9765\n",
            "test accuracy is: 0.9764999747276306\n"
          ]
        }
      ]
    },
    {
      "cell_type": "code",
      "source": [
        "\n",
        "\n",
        "# To get the array of predicted probablities:\n",
        "\n",
        "probab = network.predict(test_images)\n",
        "\n",
        "probab"
      ],
      "metadata": {
        "colab": {
          "base_uri": "https://localhost:8080/"
        },
        "id": "9BcXtiV8gxgn",
        "outputId": "7b4a8e04-9550-4ff4-c69c-4395287bea35"
      },
      "execution_count": 122,
      "outputs": [
        {
          "output_type": "execute_result",
          "data": {
            "text/plain": [
              "array([[8.62026539e-09, 7.62877446e-13, 1.14783586e-06, ...,\n",
              "        9.99985695e-01, 6.77803698e-08, 6.63304149e-07],\n",
              "       [9.26112867e-11, 4.72916582e-07, 9.99999523e-01, ...,\n",
              "        1.97133187e-17, 1.53119952e-08, 8.09051461e-18],\n",
              "       [8.14560295e-08, 9.97519314e-01, 1.58828159e-04, ...,\n",
              "        6.60068938e-04, 1.48566370e-03, 2.80065478e-06],\n",
              "       ...,\n",
              "       [2.41920660e-13, 1.26974180e-12, 4.77961663e-11, ...,\n",
              "        4.32210572e-06, 5.89227966e-06, 7.12055698e-05],\n",
              "       [1.09557374e-09, 2.09653172e-12, 2.27628897e-12, ...,\n",
              "        2.15216706e-10, 2.87070754e-04, 2.09569834e-10],\n",
              "       [1.12629603e-08, 2.93605329e-19, 1.10253605e-10, ...,\n",
              "        3.08608556e-15, 1.57739447e-11, 2.53518940e-13]], dtype=float32)"
            ]
          },
          "metadata": {},
          "execution_count": 122
        }
      ]
    },
    {
      "cell_type": "code",
      "source": [
        "# to check if these values are probabilities, sum of the values in one aray = 1\n",
        "\n",
        "value = sum(probab[0])\n",
        "\n",
        "value  # which is near to 1"
      ],
      "metadata": {
        "colab": {
          "base_uri": "https://localhost:8080/"
        },
        "id": "swfc4lXjoLgQ",
        "outputId": "5be1eac5-aba7-4f97-e08c-8ae1011cf14d"
      },
      "execution_count": 123,
      "outputs": [
        {
          "output_type": "execute_result",
          "data": {
            "text/plain": [
              "0.9999999916128932"
            ]
          },
          "metadata": {},
          "execution_count": 123
        }
      ]
    },
    {
      "cell_type": "code",
      "source": [
        ""
      ],
      "metadata": {
        "id": "rUL6qubFodSm"
      },
      "execution_count": 123,
      "outputs": []
    }
  ]
}